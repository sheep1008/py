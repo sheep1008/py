{
  "nbformat": 4,
  "nbformat_minor": 0,
  "metadata": {
    "colab": {
      "provenance": [],
      "authorship_tag": "ABX9TyMQfWkjqOE4c054EYN5ip+X",
      "include_colab_link": true
    },
    "kernelspec": {
      "name": "python3",
      "display_name": "Python 3"
    },
    "language_info": {
      "name": "python"
    }
  },
  "cells": [
    {
      "cell_type": "markdown",
      "metadata": {
        "id": "view-in-github",
        "colab_type": "text"
      },
      "source": [
        "<a href=\"https://colab.research.google.com/github/sheep1008/py/blob/main/Numpy%EA%B8%B0%EC%B4%88.ipynb\" target=\"_parent\"><img src=\"https://colab.research.google.com/assets/colab-badge.svg\" alt=\"Open In Colab\"/></a>"
      ]
    },
    {
      "cell_type": "code",
      "execution_count": 1,
      "metadata": {
        "id": "_QM6KqQbcZ8G"
      },
      "outputs": [],
      "source": [
        "# Numpy 도입\n",
        "import numpy as np"
      ]
    },
    {
      "cell_type": "code",
      "source": [
        "# Numpy 배열\n",
        "# Python의 리스트로부터 Numpy 배열을 만든다.\n",
        "\n",
        "a=np.array([0,1,2,3,4,5])\n",
        "print(a)"
      ],
      "metadata": {
        "colab": {
          "base_uri": "https://localhost:8080/"
        },
        "id": "74Wqv6VnB4fc",
        "outputId": "53868dd0-9ae1-4cfd-fdff-990348cf310a"
      },
      "execution_count": 2,
      "outputs": [
        {
          "output_type": "stream",
          "name": "stdout",
          "text": [
            "[0 1 2 3 4 5]\n"
          ]
        }
      ]
    },
    {
      "cell_type": "code",
      "source": [
        "# 2차원의 배열을 만들기\n",
        "b = np.array([[0,1,2],[3,4,5]])\n",
        "# 2중 리스트로부터 NumPy의 2차원 배열을 만든다.\n",
        "print(b)"
      ],
      "metadata": {
        "colab": {
          "base_uri": "https://localhost:8080/"
        },
        "id": "6Ufpt6bFCKUj",
        "outputId": "9da1cabf-abd3-4ca8-b8fe-0ada7abba337"
      },
      "execution_count": 5,
      "outputs": [
        {
          "output_type": "stream",
          "name": "stdout",
          "text": [
            "[[0 1 2]\n",
            " [3 4 5]]\n"
          ]
        }
      ]
    },
    {
      "cell_type": "code",
      "source": [
        "#3중 리스트로부터 NumPy의 3차원 배열을 만든다.\n",
        "c=np.array([[[0,1,2], [1,2,3]], [[2,3,4,], [3,4,5]]])\n",
        "print(c)"
      ],
      "metadata": {
        "colab": {
          "base_uri": "https://localhost:8080/"
        },
        "id": "9sulmD9aCdG5",
        "outputId": "d1a201cb-8a4d-4f18-ea56-a02e68100747"
      },
      "execution_count": 7,
      "outputs": [
        {
          "output_type": "stream",
          "name": "stdout",
          "text": [
            "[[[0 1 2]\n",
            "  [1 2 3]]\n",
            "\n",
            " [[2 3 4]\n",
            "  [3 4 5]]]\n"
          ]
        }
      ]
    },
    {
      "cell_type": "code",
      "source": [
        "#배열의 연산\n",
        "a=np.array([[0,1,2],[3,4,5]])\n",
        "\n",
        "print(a)\n",
        "print()\n",
        "print(a+2) #각 요소에 2를 더한다.\n",
        "print()\n",
        "print(a*2) #각 요소에 2를 곱한다."
      ],
      "metadata": {
        "colab": {
          "base_uri": "https://localhost:8080/"
        },
        "id": "Xvmw-0bwC8dt",
        "outputId": "1c361ca8-572c-453d-b425-458b24fbfc0f"
      },
      "execution_count": 9,
      "outputs": [
        {
          "output_type": "stream",
          "name": "stdout",
          "text": [
            "[[0 1 2]\n",
            " [3 4 5]]\n",
            "\n",
            "[[2 3 4]\n",
            " [5 6 7]]\n",
            "\n",
            "[[ 0  2  4]\n",
            " [ 6  8 10]]\n"
          ]
        }
      ]
    },
    {
      "cell_type": "code",
      "source": [
        "b=np.array([[0,1,2], [3,4,5]])\n",
        "c=np.array([[1,2,3], [4,5,6]])\n",
        "\n",
        "print(b)\n",
        "print()\n",
        "print(c)\n",
        "print()\n",
        "print(b+c) #요소끼리의 합\n",
        "print()\n",
        "print(b*c) #요소끼리의 곱"
      ],
      "metadata": {
        "colab": {
          "base_uri": "https://localhost:8080/"
        },
        "id": "YyMCPqZxDTBo",
        "outputId": "0616b270-7619-4905-d511-36489288d526"
      },
      "execution_count": 10,
      "outputs": [
        {
          "output_type": "stream",
          "name": "stdout",
          "text": [
            "[[0 1 2]\n",
            " [3 4 5]]\n",
            "\n",
            "[[1 2 3]\n",
            " [4 5 6]]\n",
            "\n",
            "[[ 1  3  5]\n",
            " [ 7  9 11]]\n",
            "\n",
            "[[ 0  2  6]\n",
            " [12 20 30]]\n"
          ]
        }
      ]
    },
    {
      "cell_type": "code",
      "source": [
        "#브로드 캐스트 - 다른 차원의 배열끼리의 연산\n",
        "d=np.array([[1,1], [1,1]]) # 2차원 배열\n",
        "e=np.array([1,2]) # 1차원 배열\n",
        "\n",
        "print(d)\n",
        "print()\n",
        "print(e)\n",
        "print()\n",
        "print(d+e) #브로드캐스트의 적용"
      ],
      "metadata": {
        "colab": {
          "base_uri": "https://localhost:8080/"
        },
        "id": "AaIYFX9cDoNR",
        "outputId": "bf0709c0-7098-4936-97d3-11b5a62fc171"
      },
      "execution_count": 11,
      "outputs": [
        {
          "output_type": "stream",
          "name": "stdout",
          "text": [
            "[[1 1]\n",
            " [1 1]]\n",
            "\n",
            "[1 2]\n",
            "\n",
            "[[2 3]\n",
            " [2 3]]\n"
          ]
        }
      ]
    },
    {
      "cell_type": "markdown",
      "source": [
        "배열의 형태를 얻을 수 있다.\n",
        "\n",
        "shape()에 의해 행과 열을 알 수 있다. / reshape()에 의해 배열의 형태를 변환할 수 있다."
      ],
      "metadata": {
        "id": "c_u8dWL5EL2r"
      }
    },
    {
      "cell_type": "code",
      "source": [
        "# shape에 의해 배열의 형태를 얻음\n",
        "a=np.array([[0,1,2], [3,4,5]])\n",
        "print(a.shape) #배열 a의 형태를 표시"
      ],
      "metadata": {
        "colab": {
          "base_uri": "https://localhost:8080/"
        },
        "id": "y3GMrpXMEDZ5",
        "outputId": "8cb85add-7268-4a24-e717-3d193c9e3cfb"
      },
      "execution_count": 14,
      "outputs": [
        {
          "output_type": "stream",
          "name": "stdout",
          "text": [
            "(2, 3)\n"
          ]
        }
      ]
    },
    {
      "cell_type": "code",
      "source": [
        "# reshape에 의해 배열의 형태를 변환\n",
        "b=np.array([0,1,2,3,4,5,6,7,8,9,10,11]) #배열의 작성\n",
        "c=b.reshape(3,4) #(3,4)인 2차원 배열로 변환\n",
        "\n",
        "print(b) # 원본 배열\n",
        "print()\n",
        "print(c) #형태를 변환한 배열"
      ],
      "metadata": {
        "colab": {
          "base_uri": "https://localhost:8080/"
        },
        "id": "vBIdaF8KE007",
        "outputId": "565ec866-4d13-4395-d630-c5df09cd52cd"
      },
      "execution_count": 16,
      "outputs": [
        {
          "output_type": "stream",
          "name": "stdout",
          "text": [
            "[ 0  1  2  3  4  5  6  7  8  9 10 11]\n",
            "\n",
            "[[ 0  1  2  3]\n",
            " [ 4  5  6  7]\n",
            " [ 8  9 10 11]]\n"
          ]
        }
      ]
    },
    {
      "cell_type": "code",
      "source": [
        "# reshape(-1)을 하면 어떤 형태의 배열이라도 1차원 배열로 변환할 수 있다\n",
        "d=np.array([[[0,1,2], [3,4,5]], [[5,4,3],[2,1,0]]])\n",
        "e=d.reshape(-1)\n",
        "\n",
        "print(d)\n",
        "print()\n",
        "print(e)"
      ],
      "metadata": {
        "colab": {
          "base_uri": "https://localhost:8080/"
        },
        "id": "fmTos28MFXFF",
        "outputId": "07037c81-c9ec-44c1-8111-f7b1e1598a99"
      },
      "execution_count": 18,
      "outputs": [
        {
          "output_type": "stream",
          "name": "stdout",
          "text": [
            "[[[0 1 2]\n",
            "  [3 4 5]]\n",
            "\n",
            " [[5 4 3]\n",
            "  [2 1 0]]]\n",
            "\n",
            "[0 1 2 3 4 5 5 4 3 2 1 0]\n"
          ]
        }
      ]
    },
    {
      "cell_type": "markdown",
      "source": [
        "요소로의 접근"
      ],
      "metadata": {
        "id": "Oxx7xxumGD9z"
      }
    },
    {
      "cell_type": "code",
      "source": [
        "#인덱스를 사용하여 접근\n",
        "a=np.array([0,1,2,3,4,5,6])\n",
        "print(a[3])"
      ],
      "metadata": {
        "colab": {
          "base_uri": "https://localhost:8080/"
        },
        "id": "Ih1BPBEpFyvF",
        "outputId": "715ddf29-02ed-4ecb-a913-23d839169ec3"
      },
      "execution_count": 19,
      "outputs": [
        {
          "output_type": "stream",
          "name": "stdout",
          "text": [
            "3\n"
          ]
        }
      ]
    },
    {
      "cell_type": "code",
      "source": [
        "#인덱스를 지정하여 배열 요소 교체하기\n",
        "a[3]=99\n",
        "print(a)"
      ],
      "metadata": {
        "colab": {
          "base_uri": "https://localhost:8080/"
        },
        "id": "dTgi11EvGPH0",
        "outputId": "9442cab8-f18b-4438-b77d-b65890819ba5"
      },
      "execution_count": 20,
      "outputs": [
        {
          "output_type": "stream",
          "name": "stdout",
          "text": [
            "[ 0  1  2 99  4  5  6]\n"
          ]
        }
      ]
    },
    {
      "cell_type": "code",
      "source": [
        "# 2차원 배열 요소 접근하기\n",
        "b=np.array([[0,1,2], [3,4,5]])\n",
        "\n",
        "print(b[1,0]) #b[1][0]과 같다."
      ],
      "metadata": {
        "colab": {
          "base_uri": "https://localhost:8080/"
        },
        "id": "6K1wb9CpGVVd",
        "outputId": "731f97e7-4d86-4979-b82d-b8d28a161eaf"
      },
      "execution_count": 21,
      "outputs": [
        {
          "output_type": "stream",
          "name": "stdout",
          "text": [
            "3\n"
          ]
        }
      ]
    },
    {
      "cell_type": "code",
      "source": [
        "b[1][0]\n",
        "print(b)"
      ],
      "metadata": {
        "colab": {
          "base_uri": "https://localhost:8080/"
        },
        "id": "jnDZQh-7GiiZ",
        "outputId": "446468b1-7eb7-4d01-9575-3ab9a48efbee"
      },
      "execution_count": 22,
      "outputs": [
        {
          "output_type": "stream",
          "name": "stdout",
          "text": [
            "[[0 1 2]\n",
            " [3 4 5]]\n"
          ]
        }
      ]
    },
    {
      "cell_type": "code",
      "source": [
        "def a_func(x):\n",
        "  y=x*2+1\n",
        "  return y\n",
        "\n",
        "a=np.array([[0,1,2], [3,4,5]]) #2차원 배열\n",
        "b=a_func(a) #인수로서 배열을 전달\n",
        "\n",
        "print(a)\n",
        "print()\n",
        "print(b)"
      ],
      "metadata": {
        "colab": {
          "base_uri": "https://localhost:8080/"
        },
        "id": "WpjDTV4pGm8J",
        "outputId": "9ae8a523-54e9-40bc-a257-a6cfb1882f0c"
      },
      "execution_count": 25,
      "outputs": [
        {
          "output_type": "stream",
          "name": "stdout",
          "text": [
            "[[0 1 2]\n",
            " [3 4 5]]\n",
            "\n",
            "[[ 1  3  5]\n",
            " [ 7  9 11]]\n"
          ]
        }
      ]
    },
    {
      "cell_type": "markdown",
      "source": [
        "NumPy의 다양한 연산 기능\n",
        "\n",
        "sum으로 합계, average로 평균, min으로 최솟값, max로 최댓값을 계산"
      ],
      "metadata": {
        "id": "lY_S0A3AHViM"
      }
    },
    {
      "cell_type": "code",
      "source": [
        "a=np.array([[1,2,3], [4,5,6]])\n",
        "print(np.sum(a)) #합\n",
        "print(np.average(a)) #평균\n",
        "print(np.min(a)) #최솟값\n",
        "print(np.max(a)) #최댓값"
      ],
      "metadata": {
        "colab": {
          "base_uri": "https://localhost:8080/"
        },
        "id": "cSyTeA-ZHFhw",
        "outputId": "d62744fc-07fe-43f7-dae4-456e97d8d433"
      },
      "execution_count": 27,
      "outputs": [
        {
          "output_type": "stream",
          "name": "stdout",
          "text": [
            "21\n",
            "3.5\n",
            "1\n",
            "6\n"
          ]
        }
      ]
    },
    {
      "cell_type": "code",
      "source": [
        "# axis를 지정하면 특정 방향으로 연산이 이뤄진다.\n",
        "a=np.array([[1,2,3], [4,5,6]])\n",
        "\n",
        "print(np.average(a, axis=0)) #열의 평균(세로 방향에서 평균)\n",
        "print(np.average(a, axis=1)) #행의 평균(가로 방향에서 평균)"
      ],
      "metadata": {
        "colab": {
          "base_uri": "https://localhost:8080/"
        },
        "id": "D3KbxVlmHqEY",
        "outputId": "27990c44-a777-4ffb-b027-d05eef5c8d21"
      },
      "execution_count": 28,
      "outputs": [
        {
          "output_type": "stream",
          "name": "stdout",
          "text": [
            "[2.5 3.5 4.5]\n",
            "[2. 5.]\n"
          ]
        }
      ]
    }
  ]
}